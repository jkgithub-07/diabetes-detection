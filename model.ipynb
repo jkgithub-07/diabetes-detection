{
 "cells": [
  {
   "cell_type": "code",
   "execution_count": 7,
   "metadata": {},
   "outputs": [],
   "source": [
    "import numpy as np\n",
    "import pandas as pd\n",
    "import matplotlib.pyplot as plt\n",
    "import seaborn as sns\n",
    "from sklearn.model_selection import train_test_split\n",
    "from sklearn.preprocessing import StandardScaler, LabelEncoder\n",
    "from sklearn.linear_model import LogisticRegression\n",
    "from sklearn.metrics import accuracy_score, confusion_matrix, classification_report"
   ]
  },
  {
   "cell_type": "code",
   "execution_count": 8,
   "metadata": {},
   "outputs": [
    {
     "name": "stdout",
     "output_type": "stream",
     "text": [
      "   gender   age  hypertension  heart_disease smoking_history    bmi  \\\n",
      "0  Female  80.0             0              1           never  25.19   \n",
      "1  Female  54.0             0              0         No Info  27.32   \n",
      "2    Male  28.0             0              0           never  27.32   \n",
      "3  Female  36.0             0              0         current  23.45   \n",
      "4    Male  76.0             1              1         current  20.14   \n",
      "\n",
      "   HbA1c_level  blood_glucose_level  diabetes  \n",
      "0          6.6                  140         0  \n",
      "1          6.6                   80         0  \n",
      "2          5.7                  158         0  \n",
      "3          5.0                  155         0  \n",
      "4          4.8                  155         0  \n",
      "<class 'pandas.core.frame.DataFrame'>\n",
      "RangeIndex: 100000 entries, 0 to 99999\n",
      "Data columns (total 9 columns):\n",
      " #   Column               Non-Null Count   Dtype  \n",
      "---  ------               --------------   -----  \n",
      " 0   gender               100000 non-null  object \n",
      " 1   age                  100000 non-null  float64\n",
      " 2   hypertension         100000 non-null  int64  \n",
      " 3   heart_disease        100000 non-null  int64  \n",
      " 4   smoking_history      100000 non-null  object \n",
      " 5   bmi                  100000 non-null  float64\n",
      " 6   HbA1c_level          100000 non-null  float64\n",
      " 7   blood_glucose_level  100000 non-null  int64  \n",
      " 8   diabetes             100000 non-null  int64  \n",
      "dtypes: float64(3), int64(4), object(2)\n",
      "memory usage: 6.9+ MB\n",
      "None\n",
      "Missing values:\n",
      " gender                 0\n",
      "age                    0\n",
      "hypertension           0\n",
      "heart_disease          0\n",
      "smoking_history        0\n",
      "bmi                    0\n",
      "HbA1c_level            0\n",
      "blood_glucose_level    0\n",
      "diabetes               0\n",
      "dtype: int64\n"
     ]
    }
   ],
   "source": [
    "# Load the dataset\n",
    "df = pd.read_csv(\"diabetes_prediction_dataset.csv\")  # Ensure the correct path\n",
    "\n",
    "# Display dataset info\n",
    "print(df.head())\n",
    "print(df.info())\n",
    "\n",
    "# Check for missing values\n",
    "print(\"Missing values:\\n\", df.isnull().sum())"
   ]
  },
  {
   "cell_type": "code",
   "execution_count": 9,
   "metadata": {},
   "outputs": [],
   "source": [
    "#Convert categorical variables (gender, smoking_history) to numerical\n",
    "label_enc = LabelEncoder()\n",
    "df[\"gender\"] = label_enc.fit_transform(df[\"gender\"])  # Convert Male/Female to 0/1\n",
    "df[\"smoking_history\"] = label_enc.fit_transform(df[\"smoking_history\"])  # Encode categories\n",
    "\n",
    "# Selecting relevant features for better prediction\n",
    "features = [\"age\", \"gender\", \"bmi\", \"hypertension\", \"heart_disease\", \n",
    "            \"smoking_history\", \"HbA1c_level\", \"blood_glucose_level\"]\n",
    "X = df[features]  # Input features\n",
    "y = df[\"diabetes\"]  # Target variable (1 = Diabetic, 0 = Non-Diabetic)\n",
    "\n",
    "# Split data (80% training, 20% testing)\n",
    "X_train, X_test, y_train, y_test = train_test_split(X, y, test_size=0.2, random_state=42)"
   ]
  },
  {
   "cell_type": "code",
   "execution_count": 10,
   "metadata": {},
   "outputs": [],
   "source": [
    "# Feature scaling (Standardization)\n",
    "scaler = StandardScaler()\n",
    "X_train = scaler.fit_transform(X_train)\n",
    "X_test = scaler.transform(X_test)\n",
    "\n",
    "# Train Logistic Regression Model\n",
    "model = LogisticRegression()\n",
    "model.fit(X_train, y_train)\n",
    "\n",
    "# Make predictions\n",
    "y_pred = model.predict(X_test)\n"
   ]
  },
  {
   "cell_type": "code",
   "execution_count": 11,
   "metadata": {},
   "outputs": [
    {
     "name": "stdout",
     "output_type": "stream",
     "text": [
      "Accuracy: 0.95865\n",
      "Confusion Matrix:\n",
      " [[18127   165]\n",
      " [  662  1046]]\n",
      "Classification Report:\n",
      "               precision    recall  f1-score   support\n",
      "\n",
      "           0       0.96      0.99      0.98     18292\n",
      "           1       0.86      0.61      0.72      1708\n",
      "\n",
      "    accuracy                           0.96     20000\n",
      "   macro avg       0.91      0.80      0.85     20000\n",
      "weighted avg       0.96      0.96      0.96     20000\n",
      "\n"
     ]
    }
   ],
   "source": [
    "# Evaluate the model\n",
    "accuracy = accuracy_score(y_test, y_pred)\n",
    "conf_matrix = confusion_matrix(y_test, y_pred)\n",
    "class_report = classification_report(y_test, y_pred)\n",
    "\n",
    "print(\"Accuracy:\", accuracy)\n",
    "print(\"Confusion Matrix:\\n\", conf_matrix)\n",
    "print(\"Classification Report:\\n\", class_report)"
   ]
  },
  {
   "cell_type": "code",
   "execution_count": 14,
   "metadata": {},
   "outputs": [
    {
     "name": "stdout",
     "output_type": "stream",
     "text": [
      "Predicted Diabetes Status (0 = No, 1 = Yes): 0\n"
     ]
    }
   ],
   "source": [
    "# Ensure that LabelEncoder is fitted on the entire dataset before transforming\n",
    "label_enc_gender = LabelEncoder()\n",
    "df[\"gender\"] = label_enc_gender.fit_transform(df[\"gender\"])\n",
    "\n",
    "label_enc_smoking = LabelEncoder()\n",
    "df[\"smoking_history\"] = label_enc_smoking.fit_transform(df[\"smoking_history\"])\n",
    "\n",
    "# Define a new test sample (manual input)\n",
    "test_sample = pd.DataFrame({\n",
    "    \"age\": [45],  \n",
    "    \"gender\":[0],  # Encode 'Male' based on training data\n",
    "    \"bmi\": [28.5],\n",
    "    \"hypertension\": [1],  # 1 = Yes, 0 = No\n",
    "    \"heart_disease\": [0],  # 1 = Yes, 0 = No\n",
    "    \"smoking_history\": [0],  # Encode category\n",
    "    \"HbA1c_level\": [6.2],\n",
    "    \"blood_glucose_level\": [135]\n",
    "})\n",
    "\n",
    "# Apply the same scaling as training data\n",
    "test_sample_scaled = scaler.transform(test_sample)\n",
    "\n",
    "# Predict diabetes (0 = No Diabetes, 1 = Diabetes)\n",
    "prediction = model.predict(test_sample_scaled)\n",
    "\n",
    "print(\"Predicted Diabetes Status (0 = No, 1 = Yes):\", prediction[0])\n"
   ]
  }
 ],
 "metadata": {
  "kernelspec": {
   "display_name": ".venv",
   "language": "python",
   "name": "python3"
  },
  "language_info": {
   "codemirror_mode": {
    "name": "ipython",
    "version": 3
   },
   "file_extension": ".py",
   "mimetype": "text/x-python",
   "name": "python",
   "nbconvert_exporter": "python",
   "pygments_lexer": "ipython3",
   "version": "3.12.7"
  }
 },
 "nbformat": 4,
 "nbformat_minor": 2
}
